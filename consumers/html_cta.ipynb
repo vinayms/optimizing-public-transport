{
 "cells": [
  {
   "cell_type": "code",
   "execution_count": 1,
   "metadata": {
    "editable": true
   },
   "outputs": [
    {
     "data": {
      "text/html": [
       "<html>\n",
       "<head>\n",
       "<title>CTA Status</title>\n",
       "<link rel=\"stylesheet\" href=\"https://stackpath.bootstrapcdn.com/bootstrap/4.3.1/css/bootstrap.min.css\" integrity=\"sha384-ggOyR0iXCbMQv3Xipma34MD+dH/1fQ784/j6cY/iJTQUOhcWr7x9JvoRxT2MZw1T\" crossorigin=\"anonymous\">\n",
       "<meta http-equiv=\"refresh\" content=\"10\">\n",
       "</head>\n",
       "<body>\n",
       "<div class=\"container-fluid\">\n",
       "<div class=\"row\" style=\"padding: 2em\">\n",
       "<div class=\"col-10\">\n",
       "<b>Welcome to the CTA Status Page!</b>\n",
       "</div>\n",
       "<div>\n",
       "70° | Sunny\n",
       "</div>\n",
       "</div>\n",
       "<div class=\"row\" style=\"margin: 0px 20px 0px 20px\">\n",
       "<table class=\"table\">\n",
       "<thead>\n",
       "<tr>\n",
       "<th scope=\"col\">Line</th>\n",
       "<th scope=\"col\">Station</th>\n",
       "<th scope=\"col\">Train Direction A</th>\n",
       "<th scope=\"col\">Train Direction B</th>\n",
       "<th scope=\"col\">Total Turnstile Entries</th>\n",
       "</tr>\n",
       "</thead>\n",
       "<tbody>\n",
       "\n",
       "\n",
       "\n",
       "\n",
       "\n",
       "\n",
       "\n",
       "</tbody>\n",
       "</table>\n",
       "</div>\n",
       "</div>\n",
       "<script src=\"https://code.jquery.com/jquery-3.3.1.slim.min.js\" integrity=\"sha384-q8i/X+965DzO0rT7abK41JStQIAqVgRVzpbzo5smXKp4YfRvH+8abtTE1Pi6jizo\" crossorigin=\"anonymous\"></script>\n",
       "<script src=\"https://cdnjs.cloudflare.com/ajax/libs/popper.js/1.14.7/umd/popper.min.js\" integrity=\"sha384-UO2eT0CpHqdSJQ6hJty5KVphtPhzWj9WO1clHTMGa3JDZwrnQq4sF86dIHNDz0W1\" crossorigin=\"anonymous\"></script>\n",
       "<script src=\"https://stackpath.bootstrapcdn.com/bootstrap/4.3.1/js/bootstrap.min.js\" integrity=\"sha384-JjSmVgyd0p3pXB1rRibZUAYoIIy6OrQ6VrjIEaFf/nJGzIxFDsf4x0xIM+B07jRM\" crossorigin=\"anonymous\"></script>\n",
       "</body>\n",
       "</html>\n"
      ],
      "text/plain": [
       "<IPython.core.display.HTML object>"
      ]
     },
     "metadata": {},
     "output_type": "display_data"
    }
   ],
   "source": [
    "from IPython.core.display import display, HTML\n",
    "display(HTML('http://localhost:8889/'))"
   ]
  },
  {
   "cell_type": "code",
   "execution_count": null,
   "metadata": {
    "editable": true
   },
   "outputs": [],
   "source": []
  }
 ],
 "metadata": {
  "kernelspec": {
   "display_name": "Python 3",
   "language": "python",
   "name": "python3"
  },
  "language_info": {
   "codemirror_mode": {
    "name": "ipython",
    "version": 3
   },
   "file_extension": ".py",
   "mimetype": "text/x-python",
   "name": "python",
   "nbconvert_exporter": "python",
   "pygments_lexer": "ipython3",
   "version": "3.7.3"
  }
 },
 "nbformat": 4,
 "nbformat_minor": 4
}
